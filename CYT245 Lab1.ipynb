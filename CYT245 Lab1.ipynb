{
 "cells": [
  {
   "cell_type": "code",
   "execution_count": 6,
   "metadata": {},
   "outputs": [
    {
     "name": "stdout",
     "output_type": "stream",
     "text": [
      "Created directory: C:\\Users\\agsun\\documents\\FaisalNotebooks\\book\\ch03\n",
      "Successfully changed the working directory to: C:\\Users\\agsun\\documents\\FaisalNotebooks\\book\\ch03\n"
     ]
    }
   ],
   "source": [
    "# Listing 3-1\n",
    "import os\n",
    "import sys\n",
    "\n",
    "try:\n",
    "    # Construct the target directory path\n",
    "    target_dir = os.path.join(os.path.expanduser(\"~\"), \"documents\", \"FaisalNotebooks\", \"book\", \"ch03\")\n",
    "    \n",
    "    # Check if the directory exists\n",
    "    if not os.path.exists(target_dir):\n",
    "        # Create the directory if it does not exist\n",
    "        os.makedirs(target_dir)\n",
    "        print(f\"Created directory: {target_dir}\")\n",
    "        \n",
    "    # Change the current working directory\n",
    "    os.chdir(target_dir)\n",
    "    \n",
    "    # Print the current working directory to confirm the change\n",
    "    print(f\"Successfully changed the working directory to: {os.getcwd()}\")\n",
    "except FileNotFoundError:\n",
    "    print(f\"Error: The directory '{target_dir}' does not exist.\")\n",
    "except PermissionError:\n",
    "    print(f\"Error: Permission denied to change to the directory '{target_dir}'.\")\n",
    "except Exception as e:\n",
    "    print(f\"An unexpected error occurred: {e}\")\n",
    "    sys.exit(1)"
   ]
  },
  {
   "cell_type": "code",
   "execution_count": 9,
   "metadata": {},
   "outputs": [
    {
     "name": "stdout",
     "output_type": "stream",
     "text": [
      "File downloaded and saved to data/reputation.data\n"
     ]
    }
   ],
   "source": [
    "# Listing 3-3\n",
    "import urllib.request\n",
    "import os\n",
    "\n",
    "avURL = \"http://datadrivensecurity.info/book/ch03/data/reputation.data\"\n",
    "\n",
    "# Relative path for the downloaded data\n",
    "avRep = \"data/reputation.data\"\n",
    "avRepDir = os.path.dirname(avRep)\n",
    "\n",
    "# Create the directory if it does not exist\n",
    "if not os.path.exists(avRepDir):\n",
    "    os.makedirs(avRepDir)\n",
    "\n",
    "# Using an if-wrapped test with urllib.request.urlretrieve() vs direct read\n",
    "# via pandas avoids having to re-download a 16MB file every time we\n",
    "# run the script\n",
    "if not os.path.isfile(avRep):\n",
    "    urllib.request.urlretrieve(avURL, filename=avRep)\n",
    "    print(f\"File downloaded and saved to {avRep}\")\n",
    "else:\n",
    "    print(f\"File already exists at {avRep}\")"
   ]
  },
  {
   "cell_type": "code",
   "execution_count": 10,
   "metadata": {},
   "outputs": [
    {
     "name": "stdout",
     "output_type": "stream",
     "text": [
      "                     IP  Reliability  Risk           Type Country  Locale  \\\n",
      "0        222.76.212.189            4     2  Scanning Host      CN  Xiamen   \n",
      "1        222.76.212.185            4     2  Scanning Host      CN  Xiamen   \n",
      "2        222.76.212.186            4     2  Scanning Host      CN  Xiamen   \n",
      "3           5.34.246.67            6     3       Spamming      US     NaN   \n",
      "4         178.94.97.176            4     5  Scanning Host      UA  Merefa   \n",
      "...                 ...          ...   ...            ...     ...     ...   \n",
      "258621  179.244.194.219            4     2       Spamming      BR     NaN   \n",
      "258622   216.99.159.166            4     2  Scanning Host      US  Walnut   \n",
      "258623   216.99.159.169            3     2  Scanning Host      US  Walnut   \n",
      "258624   216.99.159.176            3     2  Scanning Host      US  Walnut   \n",
      "258625   216.99.159.117            3     3  Scanning Host      US  Walnut   \n",
      "\n",
      "                              Coords   x  \n",
      "0         24.4797992706,118.08190155  11  \n",
      "1         24.4797992706,118.08190155  11  \n",
      "2         24.4797992706,118.08190155  11  \n",
      "3                         38.0,-97.0  12  \n",
      "4        49.8230018616,36.0507011414  11  \n",
      "...                              ...  ..  \n",
      "258621                   -10.0,-55.0  12  \n",
      "258622  34.0115013123,-117.853500366  11  \n",
      "258623  34.0115013123,-117.853500366  11  \n",
      "258624  34.0115013123,-117.853500366  11  \n",
      "258625  34.0115013123,-117.853500366  11  \n",
      "\n",
      "[258626 rows x 8 columns]\n",
      ",IP,Reliability,Risk,Type,Country,Locale,Coords,x\n",
      "0,222.76.212.189,4,2,Scanning Host,CN,Xiamen,\"24.4797992706,118.08190155\",11\n",
      "1,222.76.212.185,4,2,Scanning Host,CN,Xiamen,\"24.4797992706,118.08190155\",11\n",
      "2,222.76.212.186,4,2,Scanning Host,CN,Xiamen,\"24.4797992706,118.08190155\",11\n",
      "3,5.34.246.67,6,3,Spamming,US,,\"38.0,-97.0\",12\n",
      "4,178.94.97.176,4,5,Scanning Host,UA,Merefa,\"49.8230018616,36.0507011414\",11\n"
     ]
    }
   ],
   "source": [
    "# Listing 3-5\n",
    "import pandas as pd\n",
    "# read in the data into a pandas data frame\n",
    "av = pd.read_csv(avRep, sep=\"#\", header=None)\n",
    "\n",
    "# make smarter column names\n",
    "av.columns = [\"IP\",\"Reliability\",\"Risk\",\"Type\",\"Country\",\n",
    "              \"Locale\",\"Coords\",\"x\"]\n",
    "print(av) \n",
    "\n",
    "av.head().to_csv(sys.stdout)"
   ]
  },
  {
   "cell_type": "code",
   "execution_count": 11,
   "metadata": {},
   "outputs": [
    {
     "data": {
      "text/html": [
       "<table border=\"1\" class=\"dataframe\">\n",
       "  <thead>\n",
       "    <tr style=\"text-align: right;\">\n",
       "      <th></th>\n",
       "      <th>IP</th>\n",
       "      <th>Reliability</th>\n",
       "      <th>Risk</th>\n",
       "      <th>Type</th>\n",
       "      <th>Country</th>\n",
       "      <th>Locale</th>\n",
       "      <th>Coords</th>\n",
       "      <th>x</th>\n",
       "    </tr>\n",
       "  </thead>\n",
       "  <tbody>\n",
       "    <tr>\n",
       "      <th>0</th>\n",
       "      <td>222.76.212.189</td>\n",
       "      <td>4</td>\n",
       "      <td>2</td>\n",
       "      <td>Scanning Host</td>\n",
       "      <td>CN</td>\n",
       "      <td>Xiamen</td>\n",
       "      <td>24.4797992706,118.08190155</td>\n",
       "      <td>11</td>\n",
       "    </tr>\n",
       "    <tr>\n",
       "      <th>1</th>\n",
       "      <td>222.76.212.185</td>\n",
       "      <td>4</td>\n",
       "      <td>2</td>\n",
       "      <td>Scanning Host</td>\n",
       "      <td>CN</td>\n",
       "      <td>Xiamen</td>\n",
       "      <td>24.4797992706,118.08190155</td>\n",
       "      <td>11</td>\n",
       "    </tr>\n",
       "    <tr>\n",
       "      <th>2</th>\n",
       "      <td>222.76.212.186</td>\n",
       "      <td>4</td>\n",
       "      <td>2</td>\n",
       "      <td>Scanning Host</td>\n",
       "      <td>CN</td>\n",
       "      <td>Xiamen</td>\n",
       "      <td>24.4797992706,118.08190155</td>\n",
       "      <td>11</td>\n",
       "    </tr>\n",
       "    <tr>\n",
       "      <th>3</th>\n",
       "      <td>5.34.246.67</td>\n",
       "      <td>6</td>\n",
       "      <td>3</td>\n",
       "      <td>Spamming</td>\n",
       "      <td>US</td>\n",
       "      <td>NaN</td>\n",
       "      <td>38.0,-97.0</td>\n",
       "      <td>12</td>\n",
       "    </tr>\n",
       "    <tr>\n",
       "      <th>4</th>\n",
       "      <td>178.94.97.176</td>\n",
       "      <td>4</td>\n",
       "      <td>5</td>\n",
       "      <td>Scanning Host</td>\n",
       "      <td>UA</td>\n",
       "      <td>Merefa</td>\n",
       "      <td>49.8230018616,36.0507011414</td>\n",
       "      <td>11</td>\n",
       "    </tr>\n",
       "    <tr>\n",
       "      <th>5</th>\n",
       "      <td>66.2.49.232</td>\n",
       "      <td>4</td>\n",
       "      <td>2</td>\n",
       "      <td>Scanning Host</td>\n",
       "      <td>US</td>\n",
       "      <td>Union City</td>\n",
       "      <td>37.5962982178,-122.065696716</td>\n",
       "      <td>11</td>\n",
       "    </tr>\n",
       "    <tr>\n",
       "      <th>6</th>\n",
       "      <td>222.76.212.173</td>\n",
       "      <td>4</td>\n",
       "      <td>2</td>\n",
       "      <td>Scanning Host</td>\n",
       "      <td>CN</td>\n",
       "      <td>Xiamen</td>\n",
       "      <td>24.4797992706,118.08190155</td>\n",
       "      <td>11</td>\n",
       "    </tr>\n",
       "    <tr>\n",
       "      <th>7</th>\n",
       "      <td>222.76.212.172</td>\n",
       "      <td>4</td>\n",
       "      <td>2</td>\n",
       "      <td>Scanning Host</td>\n",
       "      <td>CN</td>\n",
       "      <td>Xiamen</td>\n",
       "      <td>24.4797992706,118.08190155</td>\n",
       "      <td>11</td>\n",
       "    </tr>\n",
       "    <tr>\n",
       "      <th>8</th>\n",
       "      <td>222.76.212.171</td>\n",
       "      <td>4</td>\n",
       "      <td>2</td>\n",
       "      <td>Scanning Host</td>\n",
       "      <td>CN</td>\n",
       "      <td>Xiamen</td>\n",
       "      <td>24.4797992706,118.08190155</td>\n",
       "      <td>11</td>\n",
       "    </tr>\n",
       "    <tr>\n",
       "      <th>9</th>\n",
       "      <td>174.142.46.19</td>\n",
       "      <td>6</td>\n",
       "      <td>3</td>\n",
       "      <td>Spamming</td>\n",
       "      <td>NaN</td>\n",
       "      <td>NaN</td>\n",
       "      <td>24.4797992706,118.08190155</td>\n",
       "      <td>12</td>\n",
       "    </tr>\n",
       "  </tbody>\n",
       "</table>"
      ],
      "text/plain": [
       "<IPython.core.display.HTML object>"
      ]
     },
     "execution_count": 11,
     "metadata": {},
     "output_type": "execute_result"
    }
   ],
   "source": [
    "# Listing 3-6\n",
    "# require object: av (3-5)\n",
    "# See corresponding output in Figure 3-1\n",
    "# import the capability to display Python objects as formatted HTML\n",
    "from IPython.display import HTML \n",
    "# display the first 10 lines of the dataframe as formatted HTML\n",
    "HTML(av.head(10).to_html())"
   ]
  },
  {
   "cell_type": "code",
   "execution_count": 24,
   "metadata": {},
   "outputs": [
    {
     "data": {
      "text/plain": [
       "count    258626.000000\n",
       "mean          2.798040\n",
       "std           1.130419\n",
       "min           1.000000\n",
       "25%           2.000000\n",
       "50%           2.000000\n",
       "75%           4.000000\n",
       "max          10.000000\n",
       "Name: Reliability, dtype: float64"
      ]
     },
     "execution_count": 24,
     "metadata": {},
     "output_type": "execute_result"
    }
   ],
   "source": [
    "# Listing 3-8\n",
    "# require object: av (3-5)\n",
    "av['Reliability'].describe()"
   ]
  },
  {
   "cell_type": "code",
   "execution_count": 25,
   "metadata": {},
   "outputs": [
    {
     "data": {
      "text/plain": [
       "count    258626.000000\n",
       "mean          2.221362\n",
       "std           0.531571\n",
       "min           1.000000\n",
       "25%           2.000000\n",
       "50%           2.000000\n",
       "75%           2.000000\n",
       "max           7.000000\n",
       "Name: Risk, dtype: float64"
      ]
     },
     "execution_count": 25,
     "metadata": {},
     "output_type": "execute_result"
    }
   ],
   "source": [
    "av['Risk'].describe()"
   ]
  },
  {
   "cell_type": "code",
   "execution_count": 68,
   "metadata": {},
   "outputs": [],
   "source": [
    "# Listing 3-10\n",
    "\n",
    "def factor_col(col):\n",
    "    factor = pd.Categorical(col)\n",
    "    return pd.value_counts(factor,sort=True).reindex(factor.categories)\n",
    "\n",
    "rel_ct = pd.value_counts(av['Reliability'])\n",
    "risk_ct = pd.value_counts(av['Risk'])\n",
    "type_ct = pd.value_counts(av['Type'])\n",
    "country_ct = pd.value_counts(av['Country'])"
   ]
  },
  {
   "cell_type": "code",
   "execution_count": 69,
   "metadata": {},
   "outputs": [
    {
     "name": "stdout",
     "output_type": "stream",
     "text": [
      "1       5612\n",
      "2     149117\n",
      "3      10892\n",
      "4      87040\n",
      "5          7\n",
      "6       4758\n",
      "7        297\n",
      "8         21\n",
      "9        686\n",
      "10       196\n",
      "dtype: int64\n"
     ]
    }
   ],
   "source": [
    "print(factor_col(av['Reliability']))"
   ]
  },
  {
   "cell_type": "code",
   "execution_count": 70,
   "metadata": {},
   "outputs": [
    {
     "name": "stdout",
     "output_type": "stream",
     "text": [
      "1        39\n",
      "2    213852\n",
      "3     33719\n",
      "4      9588\n",
      "5      1328\n",
      "6        90\n",
      "7        10\n",
      "dtype: int64\n"
     ]
    }
   ],
   "source": [
    "print(factor_col(av['Risk']))"
   ]
  },
  {
   "cell_type": "code",
   "execution_count": 71,
   "metadata": {},
   "outputs": [
    {
     "name": "stdout",
     "output_type": "stream",
     "text": [
      "APT;Malware Domain                  1\n",
      "C&C                               610\n",
      "C&C;Malware Domain                 31\n",
      "C&C;Malware IP                     20\n",
      "C&C;Scanning Host                   7\n",
      "Malicious Host                   3770\n",
      "Malicious Host;Malware Domain       4\n",
      "Malicious Host;Malware IP           2\n",
      "Malicious Host;Scanning Host      163\n",
      "Malware Domain                   9274\n",
      "dtype: int64\n"
     ]
    }
   ],
   "source": [
    "print(factor_col(av['Type']).head(n=10))"
   ]
  },
  {
   "cell_type": "code",
   "execution_count": 72,
   "metadata": {},
   "outputs": [
    {
     "name": "stdout",
     "output_type": "stream",
     "text": [
      "A1     267\n",
      "A2       2\n",
      "AE    1827\n",
      "AL       4\n",
      "AM       6\n",
      "AN       3\n",
      "AO     256\n",
      "AR    3046\n",
      "AT      51\n",
      "AU     155\n",
      "dtype: int64\n"
     ]
    }
   ],
   "source": [
    "print(factor_col(av['Country']).head(n=10))"
   ]
  },
  {
   "cell_type": "code",
   "execution_count": 73,
   "metadata": {},
   "outputs": [
    {
     "data": {
      "image/png": "[encoded data removed]",
      "text/plain": [
       "<Figure size 576x360 with 1 Axes>"
      ]
     },
     "metadata": {
      "needs_background": "light"
     },
     "output_type": "display_data"
    }
   ],
   "source": [
    "# Listing 3-14\n",
    "# require object: av (3-5)\n",
    "# See corresponding output in Figure 3-5\n",
    "# NOTE: Notice the significant differnce in the Python graph in that the \n",
    "#       blank/empty country code entries are not in the graph\n",
    "# need some functions from matplotlib to help reduce 'chart junk'\n",
    "import matplotlib.pyplot as plt\n",
    "\n",
    "# sort by country\n",
    "country_ct = pd.value_counts(av['Country'])\n",
    "\n",
    "# plot the data\n",
    "plt.axes(frameon=0) # reduce chart junk\n",
    "country_ct[:20].plot(kind='bar', \n",
    "   rot=0, title=\"Summary By Country\", figsize=(8,5)).grid(False)"
   ]
  },
  {
   "cell_type": "code",
   "execution_count": 74,
   "metadata": {},
   "outputs": [
    {
     "data": {
      "image/png": "[encoded data removed]",
      "text/plain": [
       "<Figure size 576x360 with 1 Axes>"
      ]
     },
     "metadata": {
      "needs_background": "light"
     },
     "output_type": "display_data"
    }
   ],
   "source": [
    "# Listing 3-15\n",
    "# requires packages: matplotlib\n",
    "# require object: av (3-5), factor_col (3-10)\n",
    "# See corresponding output in Figure 3-6\n",
    "plt.axes(frameon=0) # reduce chart junk\n",
    "factor_col(av['Reliability']).plot(kind='bar', rot=0,\n",
    "           title=\"Summary By 'Reliability'\", figsize=(8,5)).grid(False)"
   ]
  },
  {
   "cell_type": "code",
   "execution_count": 75,
   "metadata": {},
   "outputs": [
    {
     "data": {
      "image/png": "[encoded data removed]",
      "text/plain": [
       "<Figure size 576x360 with 1 Axes>"
      ]
     },
     "metadata": {
      "needs_background": "light"
     },
     "output_type": "display_data"
    }
   ],
   "source": [
    "# Listing 3-16\n",
    "# requires packages: matplotlib\n",
    "# require object: av (3-5), factor_col (3-10)\n",
    "# See corresponding output in Figure 3-7\n",
    "plt.axes(frameon=0) # reduce chart junk\n",
    "factor_col(av['Risk']).plot(kind='bar', rot=0, \n",
    "           title=\"Summary By 'Risk'\", figsize=(8,5)).grid(False)"
   ]
  },
  {
   "cell_type": "code",
   "execution_count": 76,
   "metadata": {},
   "outputs": [
    {
     "data": {
      "text/plain": [
       "CN    0.265182\n",
       "US    0.194826\n",
       "TR    0.053970\n",
       "DE    0.038484\n",
       "NL    0.030666\n",
       "RU    0.024537\n",
       "GB    0.024332\n",
       "IN    0.021189\n",
       "FR    0.021069\n",
       "Name: Country, dtype: float64"
      ]
     },
     "execution_count": 76,
     "metadata": {},
     "output_type": "execute_result"
    }
   ],
   "source": [
    "# Listing 3-18\n",
    "# require object: av (3-5)\n",
    "# extract the top 10 most prevalent countries\n",
    "top10 = pd.value_counts(av['Country'])[0:9] \n",
    "# calculate the % for each of the top 10\n",
    "top10.astype(float) / len(av['Country'])\n",
    "## CN    0.265182\n",
    "## US    0.194826\n",
    "## TR    0.053970\n",
    "## DE    0.038484\n",
    "## NL    0.030666\n",
    "## RU    0.024537\n",
    "## GB    0.024332\n",
    "## IN    0.021189\n",
    "## FR    0.021069\n",
    "## Length: 9, dtype: float64"
   ]
  }
 ],
 "metadata": {
  "kernelspec": {
   "display_name": "Python 3 (ipykernel)",
   "language": "python",
   "name": "python3"
  },
  "language_info": {
   "codemirror_mode": {
    "name": "ipython",
    "version": 3
   },
   "file_extension": ".py",
   "mimetype": "text/x-python",
   "name": "python",
   "nbconvert_exporter": "python",
   "pygments_lexer": "ipython3",
   "version": "3.12.4"
  }
 },
 "nbformat": 4,
 "nbformat_minor": 4
}
